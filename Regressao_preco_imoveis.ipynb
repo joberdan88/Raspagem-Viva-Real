{
  "nbformat": 4,
  "nbformat_minor": 0,
  "metadata": {
    "colab": {
      "provenance": [],
      "authorship_tag": "ABX9TyMqiZCVXjFzIFC92tpa3hkJ",
      "include_colab_link": true
    },
    "kernelspec": {
      "name": "python3",
      "display_name": "Python 3"
    },
    "language_info": {
      "name": "python"
    }
  },
  "cells": [
    {
      "cell_type": "markdown",
      "metadata": {
        "id": "view-in-github",
        "colab_type": "text"
      },
      "source": [
        "<a href=\"https://colab.research.google.com/github/joberdan88/Regressao_precos_imoveis_Colab/blob/main/Regressao_preco_imoveis.ipynb\" target=\"_parent\"><img src=\"https://colab.research.google.com/assets/colab-badge.svg\" alt=\"Open In Colab\"/></a>"
      ]
    },
    {
      "cell_type": "markdown",
      "source": [
        "# **I) Modelo de Regressão**"
      ],
      "metadata": {
        "id": "3EIOxuyNuFyQ"
      }
    },
    {
      "cell_type": "markdown",
      "source": [
        "**1.1 Importar bibliotecas e dados:**"
      ],
      "metadata": {
        "id": "WiPpo4xfqvAY"
      }
    },
    {
      "cell_type": "code",
      "execution_count": null,
      "metadata": {
        "id": "r4xW56VuTO1A"
      },
      "outputs": [],
      "source": [
        "import pandas as pd\n",
        "import numpy as np"
      ]
    },
    {
      "cell_type": "markdown",
      "source": [
        "Os dados estão orientados por colunas"
      ],
      "metadata": {
        "id": "HoZvdjRLrXOq"
      }
    },
    {
      "cell_type": "code",
      "source": [
        "dados = pd.read_json(\n",
        "    path_or_buf= 'endereço do arquivo dos dados',\n",
        "    orient='columns'\n",
        ")\n",
        "\n",
        "dados"
      ],
      "metadata": {
        "id": "g7TV-XVyrIGJ"
      },
      "execution_count": null,
      "outputs": []
    },
    {
      "cell_type": "markdown",
      "source": [
        "Explorar informações:\n"
      ],
      "metadata": {
        "id": "eBJoyGLTrp2f"
      }
    },
    {
      "cell_type": "code",
      "source": [
        "dados.ident[0]\n"
      ],
      "metadata": {
        "id": "8JE3WWaxrUmx"
      },
      "execution_count": null,
      "outputs": []
    },
    {
      "cell_type": "markdown",
      "source": [
        "Vi que está em uma linha e várias colunas"
      ],
      "metadata": {
        "id": "7XQY3uxWsaS0"
      }
    },
    {
      "cell_type": "code",
      "source": [
        "dados.listing[0]\n"
      ],
      "metadata": {
        "id": "6OjVQEVgrxq9"
      },
      "execution_count": null,
      "outputs": []
    },
    {
      "cell_type": "markdown",
      "source": [
        "**1.2 Tratamento de dados:**"
      ],
      "metadata": {
        "id": "XwF5tCLZsCEv"
      }
    },
    {
      "cell_type": "markdown",
      "source": [
        "Colocar em várias linhas e duas colunas (normalização):"
      ],
      "metadata": {
        "id": "VYhEzCN8sghG"
      }
    },
    {
      "cell_type": "code",
      "source": [
        "dados_lista1 = pd.json_normalize(dados.ident)\n",
        "dados_lista1.head()"
      ],
      "metadata": {
        "id": "Wc4IrNZhrztz"
      },
      "execution_count": null,
      "outputs": []
    },
    {
      "cell_type": "markdown",
      "source": [
        "Os dados que estavam com várias linhas e apenas uma coluna serão normalizados (serão colocados em várias linhas e várias colunas):"
      ],
      "metadata": {
        "id": "ZUhG9X_ksz9c"
      }
    },
    {
      "cell_type": "code",
      "source": [
        "dados_lista2 = pd.json_normalize(dados.listing, sep='_')\n",
        "dados_lista2.head()"
      ],
      "metadata": {
        "id": "vTFncj8Ssqrf"
      },
      "execution_count": null,
      "outputs": []
    },
    {
      "cell_type": "markdown",
      "source": [
        "Juntar as duas tabelas(concatenar):"
      ],
      "metadata": {
        "id": "Uxe0MMmjtbv9"
      }
    },
    {
      "cell_type": "code",
      "source": [
        "dados_imoveis = pd.concat([dados_lista1, dados_lista2], axis=1)\n",
        "dados_imoveis.head()"
      ],
      "metadata": {
        "id": "2bvYm2iTthvu"
      },
      "execution_count": null,
      "outputs": []
    },
    {
      "cell_type": "markdown",
      "source": [
        "Ver a quantidade de imóveis e quantidade de características:"
      ],
      "metadata": {
        "id": "uLLi8otltlQs"
      }
    },
    {
      "cell_type": "code",
      "source": [
        "dados_imoveis.shape\n"
      ],
      "metadata": {
        "id": "FwVJQw4ttujm"
      },
      "execution_count": null,
      "outputs": []
    },
    {
      "cell_type": "markdown",
      "source": [
        "Ver colunas detalhadamente:"
      ],
      "metadata": {
        "id": "zHuIfeAJtu0F"
      }
    },
    {
      "cell_type": "code",
      "source": [
        "for coluna in dados_imoveis.columns:\n",
        "    print('========='*30)\n",
        "    print(dados_imoveis[coluna].value_counts())"
      ],
      "metadata": {
        "id": "NdSD1Ctqt2f0"
      },
      "execution_count": null,
      "outputs": []
    },
    {
      "cell_type": "markdown",
      "source": [
        "**1.3 Limpeza de dados:**"
      ],
      "metadata": {
        "id": "s4CJIWubt3Yk"
      }
    },
    {
      "cell_type": "markdown",
      "source": [
        "Filtro entre residenciais e comerciais:"
      ],
      "metadata": {
        "id": "SBVTL6qKuCvt"
      }
    },
    {
      "cell_type": "code",
      "source": [
        "filtro = (dados_imoveis['types_usage'] == 'Residencial') & (dados_imoveis['address_city'] ==  'Rio de Janeiro')\n",
        "\n",
        "#aplicando o filtro\n",
        "dados_imoveis = dados_imoveis[filtro]\n",
        "dados_imoveis.head()"
      ],
      "metadata": {
        "id": "_-356aWkuC_W"
      },
      "execution_count": null,
      "outputs": []
    },
    {
      "cell_type": "markdown",
      "source": [
        "Tipos de variáveis (olhar se o número de entradas é igual ao nº de índices; se os dados de preços e áreas estão numéricos e não object; se o número de imóveis em cada variável coincide com o número total de entradas caso contrário indica que são dados nulos/faltantes):"
      ],
      "metadata": {
        "id": "nAQoqkRPuDX1"
      }
    },
    {
      "cell_type": "code",
      "source": [
        "dados_imoveis.info()"
      ],
      "metadata": {
        "id": "dSjwDAn_uDgv"
      },
      "execution_count": null,
      "outputs": []
    },
    {
      "cell_type": "markdown",
      "source": [
        "Resetar index para igualar o número de entradas ao nº de índices:"
      ],
      "metadata": {
        "id": "eG54MsXSuDuY"
      }
    },
    {
      "cell_type": "code",
      "source": [
        "dados_imoveis.reset_index(drop=True, inplace=True)\n"
      ],
      "metadata": {
        "id": "xRdsAdaouD3v"
      },
      "execution_count": null,
      "outputs": []
    },
    {
      "cell_type": "markdown",
      "source": [
        "Verificar se o índice igualou:"
      ],
      "metadata": {
        "id": "3qmhmseFxHGD"
      }
    },
    {
      "cell_type": "code",
      "source": [
        "dados_imoveis.info(verbose=False)\n"
      ],
      "metadata": {
        "id": "aHTvEl7-xHWS"
      },
      "execution_count": null,
      "outputs": []
    },
    {
      "cell_type": "markdown",
      "source": [
        "Alterar tipos de dados de variáveis de preços (c/ decimais) e de áreas (nºs inteiros):"
      ],
      "metadata": {
        "id": "dIaHz_E-xHkz"
      }
    },
    {
      "cell_type": "code",
      "source": [
        "dados_imoveis = dados_imoveis.astype({\n",
        "    'prices_price': 'float64',\n",
        "    'prices_tax_iptu': 'float64',\n",
        "    'prices_tax_condo': 'float64',\n",
        "    'features_usableAreas': 'int64',\n",
        "    'features_totalAreas': 'int64',\n",
        "})\n",
        "\n",
        "dados_imoveis.info()"
      ],
      "metadata": {
        "id": "MtHhHezkxHuQ"
      },
      "execution_count": null,
      "outputs": []
    },
    {
      "cell_type": "markdown",
      "source": [
        "**Tratando dados nulos:**\n",
        "\n",
        "\n"
      ],
      "metadata": {
        "id": "x-yhnsugxH27"
      }
    },
    {
      "cell_type": "markdown",
      "source": [
        "Verificar qtd de imóveis por zonas:\n",
        "\n"
      ],
      "metadata": {
        "id": "rQpl6vF31ECB"
      }
    },
    {
      "cell_type": "code",
      "source": [
        "dados_imoveis.address_zone.value_counts()\n"
      ],
      "metadata": {
        "id": "bJQAXpQOxH-U"
      },
      "execution_count": null,
      "outputs": []
    },
    {
      "cell_type": "markdown",
      "source": [
        "Nas zonas da cidade há alguns imóveis sem zonas (colocar essa zona como null):"
      ],
      "metadata": {
        "id": "AWLCCyCn3Bmi"
      }
    },
    {
      "cell_type": "code",
      "source": [
        "dados_imoveis['address_zone'] = dados_imoveis['address_zone'].replace('', np.nan)\n"
      ],
      "metadata": {
        "id": "sGllOWOl0nsC"
      },
      "execution_count": null,
      "outputs": []
    },
    {
      "cell_type": "code",
      "source": [
        "#verificação\n",
        "dados_imoveis.address_zone.isnull().sum()"
      ],
      "metadata": {
        "id": "ZJw9o7_70rKF"
      },
      "execution_count": null,
      "outputs": []
    },
    {
      "cell_type": "code",
      "source": [
        "#relação zona com bairro\n",
        "dados_imoveis.head()"
      ],
      "metadata": {
        "id": "HZQQIdQw0t86"
      },
      "execution_count": null,
      "outputs": []
    },
    {
      "cell_type": "markdown",
      "source": [
        "Como alguns bairros ficaram sem zonas vamos programar para onde tiver um bairro com zona e depois esse mesmo bairro aparecer sem a zona o Python colocará a zona dele:"
      ],
      "metadata": {
        "id": "e4FRMWtl4GEq"
      }
    },
    {
      "cell_type": "markdown",
      "source": [
        "Criando filtro"
      ],
      "metadata": {
        "id": "3--wzosd47oT"
      }
    },
    {
      "cell_type": "code",
      "source": [
        "dici = dados_imoveis[~dados_imoveis['address_zone'].isna()].drop_duplicates(subset=['address_neighborhood']).to_dict('records')\n",
        "print(dici)"
      ],
      "metadata": {
        "id": "of4NTVJB0yFn"
      },
      "execution_count": null,
      "outputs": []
    },
    {
      "cell_type": "markdown",
      "source": [
        "Fazendo a substituição"
      ],
      "metadata": {
        "id": "3y3yS51o5F0p"
      }
    },
    {
      "cell_type": "code",
      "source": [
        "#dicionario da bairro para zona\n",
        "dic_zonas = {dic['address_neighborhood']: dic['address_zone'] for dic in dici}\n",
        "print(dic_zonas)"
      ],
      "metadata": {
        "id": "PhKp2IYa04e_"
      },
      "execution_count": null,
      "outputs": []
    },
    {
      "cell_type": "code",
      "source": [
        "for bairro,zona in dic_zonas.items(): dados_imoveis.loc[dados_imoveis['address_neighborhood'] == bairro, 'address_zone'] = zona\n"
      ],
      "metadata": {
        "id": "QNaoOQBP07Nd"
      },
      "execution_count": null,
      "outputs": []
    },
    {
      "cell_type": "markdown",
      "source": [
        "Verificando se tem cidades sem zonas"
      ],
      "metadata": {
        "id": "5lEYwrAa5kuA"
      }
    },
    {
      "cell_type": "code",
      "source": [
        "dados_imoveis['address_zone'].isnull().sum()\n"
      ],
      "metadata": {
        "id": "1Lq1aKI3080l"
      },
      "execution_count": null,
      "outputs": []
    },
    {
      "cell_type": "markdown",
      "source": [
        "Dados nulos de taxas:"
      ],
      "metadata": {
        "id": "nQ2Td-yq1B4G"
      }
    },
    {
      "cell_type": "markdown",
      "source": [
        "Verificando quantos imóveis estão sem taxas"
      ],
      "metadata": {
        "id": "_21-gv_C6Ax9"
      }
    },
    {
      "cell_type": "code",
      "source": [
        "dados_imoveis.prices_tax_iptu.isnull().sum()\n"
      ],
      "metadata": {
        "id": "rFBvvYVr1K3h"
      },
      "execution_count": null,
      "outputs": []
    },
    {
      "cell_type": "code",
      "source": [
        "dados_imoveis.prices_tax_condo.isnull().sum()\n"
      ],
      "metadata": {
        "id": "aZEzT7rp1MlC"
      },
      "execution_count": null,
      "outputs": []
    },
    {
      "cell_type": "markdown",
      "source": [
        "Optei por colcoar os valores faltantes por zero:"
      ],
      "metadata": {
        "id": "BTwc43pb6IuC"
      }
    },
    {
      "cell_type": "code",
      "source": [
        "dados_imoveis.prices_tax_iptu.fillna(0, inplace=True)\n",
        "dados_imoveis.prices_tax_condo.fillna(0, inplace=True)"
      ],
      "metadata": {
        "id": "N82cz0qn1OSK"
      },
      "execution_count": null,
      "outputs": []
    },
    {
      "cell_type": "code",
      "source": [
        "print(f\"Total de prices nulos: {dados_imoveis.prices_tax_iptu.isnull().sum()}\")\n",
        "print(f\"Total de prices_tax_condo nulos: {dados_imoveis.prices_tax_condo.isnull().sum()}\")"
      ],
      "metadata": {
        "id": "HjnYkm3z1S2P"
      },
      "execution_count": null,
      "outputs": []
    },
    {
      "cell_type": "markdown",
      "source": [
        "Alterar nome de colunas e seleções de variáveis:"
      ],
      "metadata": {
        "id": "C_Fo2I661YlE"
      }
    },
    {
      "cell_type": "markdown",
      "source": [
        "Excluindo algumas variáveis dos dados (drop colunas)"
      ],
      "metadata": {
        "id": "MjkAz6VT6riH"
      }
    },
    {
      "cell_type": "code",
      "source": [
        "dados_imoveis.drop(['customerID', 'source', 'types_usage', 'address_city',\n",
        "                    'address_location_lon', 'address_location_lat','address_neighborhood' ], axis = 1, inplace=True)"
      ],
      "metadata": {
        "id": "-GrGkeMa1baB"
      },
      "execution_count": null,
      "outputs": []
    },
    {
      "cell_type": "markdown",
      "source": [
        "Renomeando colunas"
      ],
      "metadata": {
        "id": "CnwDWuva7K9J"
      }
    },
    {
      "cell_type": "code",
      "source": [
        "dicionario_colunas = {'types_unit': 'unit', 'address_zone': 'zone', 'prices_price': 'price',\n",
        "                     'prices_tax_condo': 'tax_condo', 'prices_tax_iptu': 'tax_iptu', 'features_bedrooms': 'bedrooms',\n",
        "                      'features_bathrooms': 'bathrooms', 'features_suites': 'suites', 'features_parkingSpaces': 'parkingSpaces',\n",
        "                      'features_usableAreas': 'usableAreas', 'features_totalAreas':'totalAreas', 'features_floors':'floors',\n",
        "                      'features_unitsOnTheFloor':'unitsOnTheFloor', 'features_unitFloor':'unitFloor'}\n",
        "\n",
        "dados_imoveis = dados_imoveis.rename(dicionario_colunas, axis = 1)\n",
        "dados_imoveis.head()"
      ],
      "metadata": {
        "id": "PBj-RsG51cKo"
      },
      "execution_count": null,
      "outputs": []
    },
    {
      "cell_type": "markdown",
      "source": [
        "# **II) Regressão Linear**"
      ],
      "metadata": {
        "id": "bfAl_cs61gOr"
      }
    },
    {
      "cell_type": "markdown",
      "source": [
        "2.1 - Correlação\n",
        "Correlação: grau da relação entre variáveis. Pode ser positiva ou negativa essa relação.\n",
        "\n",
        "Multicolinearidade: relação perfeita ou exata entre variáveis."
      ],
      "metadata": {
        "id": "zJD0S5cR7c8X"
      }
    },
    {
      "cell_type": "markdown",
      "source": [
        "### **1) Calculando a Correlação:**"
      ],
      "metadata": {
        "id": "REfBF0zq7eQ5"
      }
    },
    {
      "cell_type": "code",
      "source": [
        "correlacao = dados_imoveis.corr()\n",
        "correlacao"
      ],
      "metadata": {
        "id": "RYuREhK_mGTr"
      },
      "execution_count": null,
      "outputs": []
    },
    {
      "cell_type": "markdown",
      "source": [
        "Vamos ver a correlação no mapa de calor para entender melhor:\n"
      ],
      "metadata": {
        "id": "QYP2JWwXmI7b"
      }
    },
    {
      "cell_type": "code",
      "source": [
        "import matplotlib.pyplot as plt\n",
        "import seaborn as sns"
      ],
      "metadata": {
        "id": "P8MiNoVUmdRL"
      },
      "execution_count": null,
      "outputs": []
    },
    {
      "cell_type": "code",
      "source": [
        "cores = sns.color_palette('light:salmon', as_cmap=True)\n",
        "mask = np.zeros_like(correlacao)\n",
        "mask[np.triu_indices_from(mask)] = True\n",
        "with sns.axes_style(\"white\"):\n",
        "    f, ax = plt.subplots(figsize=(13, 8))\n",
        "    ax = sns.heatmap(correlacao, cmap=cores, mask=mask, square=True, fmt='.2f', annot=True)"
      ],
      "metadata": {
        "id": "xc1PEkh_mhem"
      },
      "execution_count": null,
      "outputs": []
    },
    {
      "cell_type": "markdown",
      "source": [
        "Ver as variáveis que mais possuem correlação pelo mapa de calor acima.\n",
        "\n"
      ],
      "metadata": {
        "id": "QWwZxwgonF5b"
      }
    },
    {
      "cell_type": "markdown",
      "source": [
        "Ver o histograma de distribuição dos dados (se tem distribuição normal ou assimétrica):"
      ],
      "metadata": {
        "id": "T9iXDAC-nhTu"
      }
    },
    {
      "cell_type": "code",
      "source": [
        "ax = sns.histplot(data=dados_imoveis, x='price', kde=True)\n",
        "ax.figure.set_size_inches(20, 10)\n",
        "ax.set_title('Histograma de preços')\n",
        "ax.set_xlabel('Preço');"
      ],
      "metadata": {
        "id": "1yqxuuJBmnsI"
      },
      "execution_count": null,
      "outputs": []
    },
    {
      "cell_type": "markdown",
      "source": [
        "Caso tenha distribuição assimétrica vamos corrigir. Uma das formas é linearizando logaritimizando e depois transformando em função inversa:"
      ],
      "metadata": {
        "id": "f8fmVJeRn_UX"
      }
    },
    {
      "cell_type": "code",
      "source": [
        "from sklearn.preprocessing import FunctionTransformer\n",
        "\n",
        "transformer = FunctionTransformer(np.log1p, validate=True)\n",
        "dados_transformados = transformer.transform(dados_imoveis.select_dtypes(exclude=['object']))"
      ],
      "metadata": {
        "id": "RUrUBC9Bxwc6"
      },
      "execution_count": null,
      "outputs": []
    },
    {
      "cell_type": "markdown",
      "source": [
        "Concatenar variáveis:"
      ],
      "metadata": {
        "id": "o34_C66Hx9tw"
      }
    },
    {
      "cell_type": "code",
      "source": [
        "colunas_dados_tranformados = dados_imoveis.select_dtypes(exclude=['object']).columns\n",
        "\n",
        "df_transformado = pd.concat([dados_imoveis.select_dtypes(include=['object']), pd.DataFrame(dados_transformados, columns=colunas_dados_tranformados)], axis=1)\n",
        "df_transformado.head()"
      ],
      "metadata": {
        "id": "8gcgxOGFxyyc"
      },
      "execution_count": null,
      "outputs": []
    },
    {
      "cell_type": "markdown",
      "source": [
        "Após transformar em logarítmo vamos olhar novamente o mapa de calor para ver a correlação dos dados transformados:"
      ],
      "metadata": {
        "id": "jJT4MO3eohWr"
      }
    },
    {
      "cell_type": "code",
      "source": [
        "correlacao_transformado = df_transformado.corr()\n",
        "mask = np.zeros_like(correlacao_transformado)\n",
        "mask[np.triu_indices_from(mask)] = True\n",
        "with sns.axes_style(\"white\"):\n",
        "    f, ax = plt.subplots(figsize=(13, 8))\n",
        "    ax = sns.heatmap(correlacao_transformado, cmap=cores, mask=mask, square=True, fmt='.2f', annot=True)\n",
        "    ax.set_title('Correlação entre variáveis - Tranformação Log', fontsize=20)"
      ],
      "metadata": {
        "id": "RldSzDoQyY__"
      },
      "execution_count": null,
      "outputs": []
    },
    {
      "cell_type": "markdown",
      "source": [
        "Vamos ver se a distribuição ficou normal com os novos dados transformados:"
      ],
      "metadata": {
        "id": "f7T79PJLyj6n"
      }
    },
    {
      "cell_type": "code",
      "source": [
        "ax = sns.histplot(data=df_transformado, x='price', kde=True)\n",
        "ax.figure.set_size_inches(20, 10)\n",
        "ax.set_title('Histograma de preços')\n",
        "ax.set_xlabel('Preço');"
      ],
      "metadata": {
        "id": "onz8AiRLyniE"
      },
      "execution_count": null,
      "outputs": []
    },
    {
      "cell_type": "markdown",
      "source": [
        "## **2) Dummies:**"
      ],
      "metadata": {
        "id": "4iBiEF3-y2N6"
      }
    },
    {
      "cell_type": "markdown",
      "source": [
        "Vamos criar variáveis categóricas (as variáveis do tipo object serão transformadas em variáveis com valores 0 e 1)."
      ],
      "metadata": {
        "id": "M9kl8YEjzhbT"
      }
    },
    {
      "cell_type": "code",
      "source": [
        "variaveis_categoricas = df_transformado.select_dtypes(include=['object']).columns\n"
      ],
      "metadata": {
        "id": "CgTgUvG_zwEZ"
      },
      "execution_count": null,
      "outputs": []
    },
    {
      "cell_type": "code",
      "source": [
        "variaveis_categoricas\n"
      ],
      "metadata": {
        "id": "-D5XPTYWzwvm"
      },
      "execution_count": null,
      "outputs": []
    },
    {
      "cell_type": "markdown",
      "source": [
        "No comando acima o python informou quais sao as variáveis do modelo que são object(que são as variáveis categóricas que criei), depois disso vamos criar variáveis dummies delas:"
      ],
      "metadata": {
        "id": "1yIIzjiCz57j"
      }
    },
    {
      "cell_type": "code",
      "source": [
        "df_dummies = pd.get_dummies(df_transformado[variaveis_categoricas])\n",
        "df_dummies.head()"
      ],
      "metadata": {
        "id": "ErVwAJDY0VJ6"
      },
      "execution_count": null,
      "outputs": []
    },
    {
      "cell_type": "markdown",
      "source": [
        "Vamos juntar essas novas variáveis com as outras do modelo (concatenar):"
      ],
      "metadata": {
        "id": "JQmiRmmw0sOg"
      }
    },
    {
      "cell_type": "code",
      "source": [
        "dados_imoveis_dummies = pd.concat([df_transformado.drop(variaveis_categoricas, axis=1), df_dummies], axis=1)\n",
        "dados_imoveis_dummies.head()"
      ],
      "metadata": {
        "id": "iVqBx76Kzz3V"
      },
      "execution_count": null,
      "outputs": []
    },
    {
      "cell_type": "markdown",
      "source": [
        "## **3) Ajuste e previsão:**"
      ],
      "metadata": {
        "id": "5iyIYP8Z004r"
      }
    },
    {
      "cell_type": "markdown",
      "source": [
        "### Divisão dos dados\n"
      ],
      "metadata": {
        "id": "D-Gpl2651haM"
      }
    },
    {
      "cell_type": "code",
      "source": [
        "#variáveis explanatórias (independentes)\n",
        "X = dados_imoveis_dummies.drop('price', axis=1)\n",
        "\n",
        "#variável dependente\n",
        "y = dados_imoveis_dummies['price']"
      ],
      "metadata": {
        "id": "aD1OtNELFWGM"
      },
      "execution_count": null,
      "outputs": []
    },
    {
      "cell_type": "code",
      "source": [
        "from sklearn.model_selection import train_test_split\n"
      ],
      "metadata": {
        "id": "oQrnQu8SFZHG"
      },
      "execution_count": null,
      "outputs": []
    },
    {
      "cell_type": "code",
      "source": [
        "#divisão em conjunto de treino e teste\n",
        "X_treino, X_teste, y_treino, y_teste = train_test_split(X, y, test_size=0.3, random_state=42)"
      ],
      "metadata": {
        "id": "QBm9FfITFa7O"
      },
      "execution_count": null,
      "outputs": []
    },
    {
      "cell_type": "markdown",
      "source": [
        "### Modelo\n"
      ],
      "metadata": {
        "id": "xxQagRy7Fdfq"
      }
    },
    {
      "cell_type": "code",
      "source": [
        "from sklearn.linear_model import LinearRegression\n"
      ],
      "metadata": {
        "id": "JL8LkFUFFnDT"
      },
      "execution_count": null,
      "outputs": []
    },
    {
      "cell_type": "code",
      "source": [
        "#Instanciando o modelo\n",
        "lr = LinearRegression()"
      ],
      "metadata": {
        "id": "ahEdc8WLFrs6"
      },
      "execution_count": null,
      "outputs": []
    },
    {
      "cell_type": "code",
      "source": [
        "#treino\n",
        "lr.fit(X_treino, y_treino)"
      ],
      "metadata": {
        "id": "SkELC9YcFr15"
      },
      "execution_count": null,
      "outputs": []
    },
    {
      "cell_type": "code",
      "source": [
        "#teste\n",
        "previsao_lr = lr.predict(X_teste)"
      ],
      "metadata": {
        "id": "KuS3qev3Fr8r"
      },
      "execution_count": null,
      "outputs": []
    },
    {
      "cell_type": "code",
      "source": [
        "#resultados da previsão\n",
        "previsao_lr"
      ],
      "metadata": {
        "id": "fi0pmIDxFsDJ"
      },
      "execution_count": null,
      "outputs": []
    },
    {
      "cell_type": "markdown",
      "source": [
        "Os resultados vão estar em logaritmo, para transformar faz a inversa: np.expm1(coloca o valor logaritmizado que quero transformar)"
      ],
      "metadata": {
        "id": "QsvbVk3OGba-"
      }
    },
    {
      "cell_type": "markdown",
      "source": [
        "# **3) Métrica de desempenho:**"
      ],
      "metadata": {
        "id": "Ydmdrjq2G2bk"
      }
    },
    {
      "cell_type": "markdown",
      "source": [
        "## Coeficiente de Determinação (R²):\n"
      ],
      "metadata": {
        "id": "rmH1JLTHIMK5"
      }
    },
    {
      "cell_type": "markdown",
      "source": [
        "\n",
        "*   descobrir quão “bem” uma linha de regressão amostral é adequada aos dados\n",
        "*   situa-se entre 0 e 1\n",
        "*   mede a proporção ou percentual da variação total de Y explicada pelo modelo de regressão.\n",
        "\n",
        "\n"
      ],
      "metadata": {
        "id": "nzpBV2DiIUYn"
      }
    },
    {
      "cell_type": "code",
      "source": [
        "#importar a biblioteca\n",
        "from sklearn.metrics import r2_score"
      ],
      "metadata": {
        "id": "vblYOZbqIsuA"
      },
      "execution_count": null,
      "outputs": []
    },
    {
      "cell_type": "code",
      "source": [
        "r2_lr = r2_score(y_teste, previsao_lr)\n",
        "r2_lr\n",
        "\n",
        "#Vai sair o resultado, ao multiplicar por 100 dará o percentual de ajuste."
      ],
      "metadata": {
        "id": "8o9k7g6UIvPJ"
      },
      "execution_count": null,
      "outputs": []
    },
    {
      "cell_type": "markdown",
      "source": [
        "## Algumas métricas de avaliação de séries temporais:\n",
        "\n",
        "Obs. No modelo geral usamos apenas o R²."
      ],
      "metadata": {
        "id": "71D81xSgI06z"
      }
    },
    {
      "cell_type": "markdown",
      "source": [
        "1) **Erro Médio Absoluto - MAE:**\n",
        "from sklearn.metrics import mean_absolute_error\n",
        "mean_absolute_error(y_true, y_pred)\n",
        "\n",
        "\n",
        "Utilizamos essa medida em séries temporais, pois há casos em que o ***erro negativo pode zerar o positivo ou dar uma ideia de que o modelo é preciso***. Mas aqui, medimos apenas a distância do valor real, independente de ser acima ou abaixo. ***Menos afetado por outliers.***\n",
        "***\n",
        "2) **Erro Quadrático Médio - MSE:**\n",
        "from sklearn.metrics import mean_squared_error\n",
        "mean_squared_error(y_true, y_pred, squared=True)\n",
        "\n",
        "Por conta do expoente ao quadrado que o erro assume, essa métrica é bastante ***sensível a outliers*** (valores discrepantes) e, caso tenha muitos erros significativos em sua análise, essa métrica poderá ser extrapolada.  ***Dá um peso maior aos maiores erros, menores valores para a métrica são mais interessantes.***\n",
        "***\n",
        "\n",
        "3) **Raiz Quadrada do Erro Médio - RMSE:**\n",
        "from sklearn.metrics import mean_squared_error\n",
        "mean_squared_error(y_true, y_pred, squared=False)\n",
        "\n",
        "É frequentemente usada em séries temporais por ser ***mais sensível a erros maiores*** devido ao processo de quadratura que a produziu.\n",
        "***\n",
        "\n",
        "4) **Média Percentual Absoluta do Erro - MAPE:**\n",
        "from sklearn.metrics import mean_absolute_percentage_error\n",
        "mean_absolute_percentage_error(y_true, y_pred)\n",
        "\n",
        "Esta é outra métrica interessante para usar, geralmente usada em relatórios de gerenciamento, porque ***o erro é medido como uma porcentagem*** e assim, é possível fazer comparações entre erros percentuais do modelo entre produtos.\n",
        "\n",
        "\n",
        "\n",
        "\n"
      ],
      "metadata": {
        "id": "9_wCFz_oN-4H"
      }
    },
    {
      "cell_type": "markdown",
      "source": [
        "# **4) Árvoes de decisão para Regressão:**"
      ],
      "metadata": {
        "id": "owksdO6UPBF3"
      }
    },
    {
      "cell_type": "markdown",
      "source": [
        "### **4.1 Implementando o modelo:**"
      ],
      "metadata": {
        "id": "47OKRD8Jo1qy"
      }
    },
    {
      "cell_type": "code",
      "source": [
        "from sklearn.tree import DecisionTreeRegressor\n"
      ],
      "metadata": {
        "id": "jZ6Amxot03Vw"
      },
      "execution_count": null,
      "outputs": []
    },
    {
      "cell_type": "code",
      "source": [
        "#Instanciando o modelo\n",
        "dtr = DecisionTreeRegressor(random_state=42, max_depth=5)"
      ],
      "metadata": {
        "id": "QQ8n13b007py"
      },
      "execution_count": null,
      "outputs": []
    },
    {
      "cell_type": "code",
      "source": [
        "#Treino\n",
        "dtr.fit(X_treino, y_treino)"
      ],
      "metadata": {
        "id": "30gZy-GL07xB"
      },
      "execution_count": null,
      "outputs": []
    },
    {
      "cell_type": "code",
      "source": [
        "#Teste\n",
        "previsao_dtr = dtr.predict(X_teste)"
      ],
      "metadata": {
        "id": "ZUlB3_o6073v"
      },
      "execution_count": null,
      "outputs": []
    },
    {
      "cell_type": "code",
      "source": [
        "#Resultados da previsão\n",
        "previsao_dtr"
      ],
      "metadata": {
        "id": "tNfyAqTO07-v"
      },
      "execution_count": null,
      "outputs": []
    },
    {
      "cell_type": "markdown",
      "source": [
        "**Gráfico de erro de predição**: Um gráfico de erros de predição mostra os alvos reais em relação aos valores previstos. Em um modelo perfeito, esses pontos estariam alinhados em 45 grau.\n",
        "\n",
        "Para saber mais sobre outras visualizações: Documentação YellowBrick (https://www.scikit-yb.org/en/latest/)"
      ],
      "metadata": {
        "id": "Z5gnaxPV1NJq"
      }
    },
    {
      "cell_type": "code",
      "source": [
        "from yellowbrick.regressor import PredictionError\n",
        "\n",
        "fig, ax = plt.subplots(figsize=(10, 10))\n",
        "pev = PredictionError(dtr)\n",
        "pev.fit(X_treino, y_treino)\n",
        "pev.score(X_teste, y_teste)\n",
        "pev.poof()"
      ],
      "metadata": {
        "id": "OXGVS8Vd1H4O"
      },
      "execution_count": null,
      "outputs": []
    },
    {
      "cell_type": "markdown",
      "source": [
        "### **4.2 Métricas**"
      ],
      "metadata": {
        "id": "GlHVaD7l1h7j"
      }
    },
    {
      "cell_type": "code",
      "source": [
        "#coeficiente de determinacao (previsto com o real)\n",
        "r2_dtr = r2_score(y_teste, previsao_dtr)\n",
        "r2_dtr"
      ],
      "metadata": {
        "id": "aVFYsgmB1idC"
      },
      "execution_count": null,
      "outputs": []
    },
    {
      "cell_type": "markdown",
      "source": [
        "#**5) Random Forest para Regressão:**"
      ],
      "metadata": {
        "id": "jwyy2OV_5Egm"
      }
    },
    {
      "cell_type": "markdown",
      "source": [
        "### **5.1) Modelo Ensemble**"
      ],
      "metadata": {
        "id": "9fwxb4tG5c7s"
      }
    },
    {
      "cell_type": "markdown",
      "source": [
        "É um método que generaliza e combina diferentes modelos para obter o melhor desempenho. Combina as diferentes predições de múltiplos modelos, com foco em ter uma performance melhor."
      ],
      "metadata": {
        "id": "9iIpmBSdiNTY"
      }
    },
    {
      "cell_type": "markdown",
      "source": [
        "A Floresta Aleatório (Random Forest) é uma técnica do Ensemble:\n",
        "São formadas por diferentes árvores de decisões construídas de forma aleatória. Cada uma dessas florestas construídas vai obter um valor predito. No modelo de regressão, é feito uma média de todos os valores preditos para se obter o valor final, e teremos o nosso resultado, a nossa predição."
      ],
      "metadata": {
        "id": "YybytyFPi092"
      }
    },
    {
      "cell_type": "markdown",
      "source": [
        "Vantagens:\n",
        "1)Redução da chance de ter um overfitting (uma vez que a média dessas árvores não correlacionadas reduz a variância geral e o erro de previsão);\n",
        "2)Flexibilidade (lida bem com valores faltantes, também lida com valores faltantes dentro da base de dados);\n",
        "3)Tem boa acurácia;\n",
        "4)Lida bem com grande volumes de dados."
      ],
      "metadata": {
        "id": "3zYuzn0Jj2Dw"
      }
    },
    {
      "cell_type": "markdown",
      "source": [
        "Biblioteca Sklearn - Random Forest Regressor ( https://scikit-learn.org/stable/modules/generated/sklearn.ensemble.RandomForestRegressor.html#sklearn.ensemble.RandomForestRegressor )\n",
        "\n",
        "Dica de leitura: Artigo Científico - Random Forests ( https://link.springer.com/article/10.1023/A:1010933404324 ), Wikipédia: Random Forests, Capítulo 4 - Livro Introduction to Statistical and Machine Learning Methods for Data Science, Capítulo 7 - Mãos à obra: aprendizado de máquina com Scikit-Learn, Keras & TensorFlow: Conceitos, ferramentas e técnicas para a construção de sistemas inteligentes"
      ],
      "metadata": {
        "id": "qMp0pyqi6C_y"
      }
    },
    {
      "cell_type": "markdown",
      "source": [
        "### **5.2) Previsão:**"
      ],
      "metadata": {
        "id": "wld9Ba5A6F5I"
      }
    },
    {
      "cell_type": "markdown",
      "source": [
        "Ponto de Atenção: Os parâmetros são praticamente os mesmos entre o DecisionTreeRegressor() e o RandomForestRegressor(), com exceção de:\n",
        "\n",
        "* n_estimators: quantidade de árvores na floresta\n",
        "* bootstrap: define se será utilizado o método estatístico de amostragem bootstrap\n",
        "* oob_score: define se será utilizado o método de amostragem out-of-bag para mensurar os erros da predição\n",
        "* n_jobs: número de jobs rodando paralelamente (computação paralela - processadores)\n",
        "* warm_start: faz a adequação de uma nova floresta ou usa uma floresta existente.\n",
        "* max_samples: para o caso do bootstrap ser True, define o número de amostras a serem extraídas de X para treinar cada árvore base.\n",
        "* max_depth: Profundidade máxima das árvores de decisão a serem criadas.\n",
        "\n",
        "\n"
      ],
      "metadata": {
        "id": "WoSasysP6VbL"
      }
    },
    {
      "cell_type": "code",
      "source": [
        "from sklearn.ensemble import RandomForestRegressor\n"
      ],
      "metadata": {
        "id": "XY_10olw6Pjr"
      },
      "execution_count": null,
      "outputs": []
    },
    {
      "cell_type": "code",
      "source": [
        "rf = RandomForestRegressor(random_state=42, max_depth=5, n_estimators=10)\n"
      ],
      "metadata": {
        "id": "eepRAsGn6Pxo"
      },
      "execution_count": null,
      "outputs": []
    },
    {
      "cell_type": "code",
      "source": [
        "rf.fit(X_treino, y_treino)\n"
      ],
      "metadata": {
        "id": "gMcfRp9j6P6J"
      },
      "execution_count": null,
      "outputs": []
    },
    {
      "cell_type": "code",
      "source": [
        "previsao_rf = rf.predict(X_teste)\n"
      ],
      "metadata": {
        "id": "8K5paV0yneB1"
      },
      "execution_count": null,
      "outputs": []
    },
    {
      "cell_type": "markdown",
      "source": [
        "**Gráfico de erro de predição:**\n"
      ],
      "metadata": {
        "id": "fzhUcY4ynhSC"
      }
    },
    {
      "cell_type": "code",
      "source": [
        "from yellowbrick.regressor import PredictionError\n",
        "\n",
        "fig, ax = plt.subplots(figsize=(10, 10))\n",
        "pev = PredictionError(rf)\n",
        "pev.fit(X_treino, y_treino)\n",
        "pev.score(X_teste, y_teste)\n",
        "pev.poof()"
      ],
      "metadata": {
        "id": "lN76mP9Cnew1"
      },
      "execution_count": null,
      "outputs": []
    },
    {
      "cell_type": "markdown",
      "source": [
        "**Métrica de Desempenho:**"
      ],
      "metadata": {
        "id": "fnofXZEAn1hl"
      }
    },
    {
      "cell_type": "code",
      "source": [
        "#coeficiente de determinacao\n",
        "r2_rf = r2_score(y_teste, previsao_rf)\n",
        "r2_rf"
      ],
      "metadata": {
        "id": "Pfy7ZFTPnvjL"
      },
      "execution_count": null,
      "outputs": []
    },
    {
      "cell_type": "markdown",
      "source": [
        "Obs.  Segue script que torna possível que cria uma tabela para comparar os 3 modelos (regressão linear, árvore de decisão e floresta aleatória) mostrando os melhores resultados para R2, MSE(erro quadrático) e MAE(erro absoluto:\n",
        "\n",
        "\n",
        "**Importando os métodos que serão utilizados:**\n",
        "\n",
        "from sklearn.metrics import r2_score, mean_squared_error, mean_absolute_error\n",
        "\n",
        "def obter_metrica(modelo, X_teste, y_teste, nome):\n",
        "    predict = modelo.predict(X_teste)\n",
        "    df_metricas = pd.DataFrame({\n",
        "        'R2': [r2_score(y_teste,predict)],\n",
        "        'MSE': [mean_squared_error(y_teste, predict)],\n",
        "        'MAE': [mean_absolute_error(y_teste, predict)]\n",
        "    }, index=[nome])\n",
        "\n",
        "    return df_metricas\n",
        "\n",
        "\n",
        "**Função para obter valores das métricas:**\n",
        "   \n",
        "    def tabela_metricas(modelo_reg_linear, modelo_dt, modelo_rf, X_teste, y_teste):\n",
        "    df_metricas_reg_linear = obter_metrica(modelo_reg_linear, X_teste, y_teste, 'Linear Regression')\n",
        "    df_metricas_dt = obter_metrica(modelo_dt, X_teste, y_teste, 'Decision Tree Regression')\n",
        "    df_metricas_rf = obter_metrica(modelo_rf, X_teste, y_teste, 'Random Forest Regression')\n",
        "\n",
        "    return pd.concat([df_metricas_reg_linear, df_metricas_dt, df_metricas_rf])\n",
        "\n",
        "**Obter a tabela:**\n",
        "\n",
        "    tabela_metricas(lr, dtr, rf, X_teste, y_teste)"
      ],
      "metadata": {
        "id": "9RlQotxUpsnC"
      }
    },
    {
      "cell_type": "markdown",
      "source": [
        "# **6) Técnicas de Otimização**"
      ],
      "metadata": {
        "id": "0JJm53zGr-8D"
      }
    },
    {
      "cell_type": "markdown",
      "source": [
        "## **6.1 Ferramentas de Otimização:**"
      ],
      "metadata": {
        "id": "GfY9Umk9sHm2"
      }
    },
    {
      "cell_type": "markdown",
      "source": [
        "Por que otimizar?\n",
        "\n",
        "Quais ferramentas temos?\n",
        "\n",
        "Melhorando os hiperparâmetros - Documentação Sklearn: https://scikit-learn.org/stable/modules/grid_search.html#tuning-the-hyper-parameters-of-an-estimator\n",
        "\n",
        "**1. Cross Validation (Validação Cruzada)**\n",
        "* Documentação Cross-validation: https://scikit-learn.org/stable/modules/cross_validation.html\n",
        "\n",
        "* Cross Validation é uma técnica muito utilizada para avaliação de desempenho de modelos e consequente verificação de tendências no aprendizado de máquina. Ele consiste em particionar os dados em subconjuntos (partes), onde um subconjunto é utilizado para treino e outro subconjunto é utilizado para teste e avaliação do desempenho do modelo.\n",
        "\n",
        "* Os dados particionados são os de treino (70% dos dados originais)!\n",
        "\n",
        "* K-fold: conjunto de treino é dividido de forma aleatória em K subconjuntos de aproximadamente mesmo tamanho, depois são realizados K iterações, onde K-1 subconjuntos são para treino e 1 para validação.\n",
        "\n",
        "* O desempenho calculado pela validação cruzada k-fold é a média de todos os valores calculados em cada iteração.\n",
        "\n",
        "**2. Randomized Parameter Optimization (Otimização Aleatória de Parâmetros)**\n",
        "* Documentação Randomized : https://scikit-learn.org/stable/modules/grid_search.html#randomized-parameter-optimization\n",
        "\n",
        "* Artigo Científico sobre Random Search: https://www.jmlr.org/papers/volume13/bergstra12a/bergstra12a.pdf\n",
        "\n",
        "* \"Define um espaço de busca como um domínio limitado de valores de hiperparâmetros e pontos de amostra aleatórios nesse domínio.\"\n",
        "\n",
        "* Imagem no artigo sobre funcionamento desta busca"
      ],
      "metadata": {
        "id": "n4U8UpoOsRKn"
      }
    },
    {
      "cell_type": "markdown",
      "source": [
        "## **6.2 Otimizando a Árvore de Decisão**"
      ],
      "metadata": {
        "id": "muGq9t33tQEB"
      }
    },
    {
      "cell_type": "code",
      "source": [
        "#divisão do dataset em 3 pedaços\n",
        "from sklearn.model_selection import KFold\n",
        "\n",
        "#definindo o K - número de subconjuntos\n",
        "cv = KFold(n_splits = 5, shuffle=True)"
      ],
      "metadata": {
        "id": "oCsFFuyNtk3R"
      },
      "execution_count": null,
      "outputs": []
    },
    {
      "cell_type": "markdown",
      "source": [
        "# Cross validation\n"
      ],
      "metadata": {
        "id": "CS92nvdyti_4"
      }
    },
    {
      "cell_type": "code",
      "source": [
        "from sklearn.model_selection import cross_val_score\n"
      ],
      "metadata": {
        "id": "WcYfH8OqpP04"
      },
      "execution_count": null,
      "outputs": []
    },
    {
      "cell_type": "code",
      "source": [
        "desempenho_cross_val_r2 = cross_val_score(estimator = dtr,\n",
        "                                       X = X_treino,\n",
        "                                       y = y_treino,\n",
        "                                       scoring = 'r2',\n",
        "                                       cv = cv)\n",
        "print('Desempenho médio de r2: {}'.format(round(desempenho_cross_val_r2.mean(), 3)))"
      ],
      "metadata": {
        "id": "2uJNUEeypQoj"
      },
      "execution_count": null,
      "outputs": []
    },
    {
      "cell_type": "markdown",
      "source": [
        "Encontrou o R2 antes de otimizar."
      ],
      "metadata": {
        "id": "nCw--iynpjWO"
      }
    },
    {
      "cell_type": "markdown",
      "source": [
        "# Random Search Validação\n"
      ],
      "metadata": {
        "id": "i7EobVsOpYjD"
      }
    },
    {
      "cell_type": "code",
      "source": [
        "#seleção de hiperparâmetros\n",
        "param_random_dt = {\n",
        "    'criterion': ['squared_error', 'absolute_error'],\n",
        "    'max_depth': [6, 8, 10, 12, 14, 16],\n",
        "    'min_samples_leaf': [6, 8, 10],\n",
        "    'min_samples_split': [8, 10, 12, 14, 16],\n",
        "    'max_features': ['sqrt', 'log2', 'auto'],\n",
        "}"
      ],
      "metadata": {
        "id": "-V6BC1Q-peNZ"
      },
      "execution_count": null,
      "outputs": []
    },
    {
      "cell_type": "code",
      "source": [
        "from sklearn.model_selection import RandomizedSearchCV\n"
      ],
      "metadata": {
        "id": "--Ym9S3tpwwv"
      },
      "execution_count": null,
      "outputs": []
    },
    {
      "cell_type": "code",
      "source": [
        "random_cv_dt = RandomizedSearchCV(\n",
        "    dtr,\n",
        "    param_random_dt,\n",
        "    n_iter=5,\n",
        "    cv=cv,\n",
        "    scoring='r2',\n",
        "    n_jobs=-1\n",
        ")"
      ],
      "metadata": {
        "id": "Z7u44wPdp1Qf"
      },
      "execution_count": null,
      "outputs": []
    },
    {
      "cell_type": "code",
      "source": [
        "randomcv_dtr = random_cv_dt.fit(X_treino, y_treino)\n"
      ],
      "metadata": {
        "id": "mOc3V3bqp25o"
      },
      "execution_count": null,
      "outputs": []
    },
    {
      "cell_type": "code",
      "source": [
        "pd.DataFrame(randomcv_dtr.cv_results_)\n"
      ],
      "metadata": {
        "id": "4LMt4ED8p5lN"
      },
      "execution_count": null,
      "outputs": []
    },
    {
      "cell_type": "markdown",
      "source": [
        "Encontrou os superparâmentros."
      ],
      "metadata": {
        "id": "2hmvsSNwqBfV"
      }
    },
    {
      "cell_type": "code",
      "source": [
        "#a melhor combinação\n",
        "randomcv_dtr.best_params_"
      ],
      "metadata": {
        "id": "0ymh5tdgp6YZ"
      },
      "execution_count": null,
      "outputs": []
    },
    {
      "cell_type": "code",
      "source": [
        "#o melhor score\n",
        "randomcv_dtr.best_score_"
      ],
      "metadata": {
        "id": "iChoCY_RqJ_t"
      },
      "execution_count": null,
      "outputs": []
    },
    {
      "cell_type": "markdown",
      "source": [
        "Encontrou a melhor combinação de parâmetros e score."
      ],
      "metadata": {
        "id": "32Gws6VMpyYP"
      }
    },
    {
      "cell_type": "markdown",
      "source": [
        "# Random Search Teste\n"
      ],
      "metadata": {
        "id": "nTkqK0vVqclx"
      }
    },
    {
      "cell_type": "markdown",
      "source": [
        "Colocar abaixo o max_depth, max_features, min_samples_leaf, min_samples_split encontrado no resultado do script ( dtr_otimizado.fit(X_treino, y_treino) ) que foi rodado agora a pouco. Entre aspas quando for texto.\n"
      ],
      "metadata": {
        "id": "Qz_308eurRD7"
      }
    },
    {
      "cell_type": "code",
      "source": [
        "dtr_otimizado = DecisionTreeRegressor(criterion='squared_error' , max_depth=  , max_features= '' ,\n",
        "                            min_samples_leaf= , min_samples_split = )"
      ],
      "metadata": {
        "id": "IVLFICcZqhM9"
      },
      "execution_count": null,
      "outputs": []
    },
    {
      "cell_type": "code",
      "source": [
        "dtr_otimizado.fit(X_treino, y_treino)\n"
      ],
      "metadata": {
        "id": "9BlOuvvhqkhm"
      },
      "execution_count": null,
      "outputs": []
    },
    {
      "cell_type": "code",
      "source": [
        "predicao_dtr_otimizado = dtr_otimizado.predict(X_teste)\n"
      ],
      "metadata": {
        "id": "Ze1ixdz4qmzV"
      },
      "execution_count": null,
      "outputs": []
    },
    {
      "cell_type": "code",
      "source": [
        "r2_score(y_teste, predicao_dtr_otimizado)\n"
      ],
      "metadata": {
        "id": "1z_u7bINqpYd"
      },
      "execution_count": null,
      "outputs": []
    },
    {
      "cell_type": "markdown",
      "source": [
        "Encontrou o melhor resultado R2."
      ],
      "metadata": {
        "id": "di_ZKilRqtew"
      }
    },
    {
      "cell_type": "markdown",
      "source": [
        "# **6.3 Otimizando a Random Forest**"
      ],
      "metadata": {
        "id": "MkF7ZMvlq4Ci"
      }
    },
    {
      "cell_type": "markdown",
      "source": [
        "# Cross validation\n"
      ],
      "metadata": {
        "id": "7rwBnnPZrLRe"
      }
    },
    {
      "cell_type": "code",
      "source": [
        "desempenhoRF_cross_val_r2 = cross_val_score(estimator = rf,\n",
        "                                       X = X_treino,\n",
        "                                       y = y_treino,\n",
        "                                       scoring = 'r2',\n",
        "                                       cv = cv)\n",
        "print('Desempenho médio de r2: {}'.format(round(desempenhoRF_cross_val_r2.mean(), 3)))"
      ],
      "metadata": {
        "id": "sH43uS7gr3NY"
      },
      "execution_count": null,
      "outputs": []
    },
    {
      "cell_type": "markdown",
      "source": [
        "# Random Search Validação\n"
      ],
      "metadata": {
        "id": "VoV6Mmc5r62i"
      }
    },
    {
      "cell_type": "markdown",
      "source": [
        "Definindo os parâmetros\n",
        "\n",
        "\n"
      ],
      "metadata": {
        "id": "mU5BtzsasDZt"
      }
    },
    {
      "cell_type": "code",
      "source": [
        "param_random_rf = {\n",
        "    'n_estimators': [150, 200],\n",
        "    'max_depth': [20, 30],\n",
        "    'min_samples_split': [8, 10],\n",
        "    'min_samples_leaf': [3],\n",
        "}"
      ],
      "metadata": {
        "id": "32J0mbKUr_U-"
      },
      "execution_count": null,
      "outputs": []
    },
    {
      "cell_type": "code",
      "source": [
        "random_cv_rf = RandomizedSearchCV(\n",
        "    rf,\n",
        "    param_random_rf,\n",
        "    n_iter=5,\n",
        "    cv=cv,\n",
        "    scoring='r2',\n",
        "    n_jobs=-1,\n",
        "    random_state = 42\n",
        ")"
      ],
      "metadata": {
        "id": "2WnLGRMtsNus"
      },
      "execution_count": null,
      "outputs": []
    },
    {
      "cell_type": "code",
      "source": [
        "rf_randomcv = random_cv_rf.fit(X_treino, y_treino)\n"
      ],
      "metadata": {
        "id": "t3q6Exx8sN2n"
      },
      "execution_count": null,
      "outputs": []
    },
    {
      "cell_type": "code",
      "source": [
        "pd.DataFrame(rf_randomcv.cv_results_)\n"
      ],
      "metadata": {
        "id": "HQbvIvOWsN9P"
      },
      "execution_count": null,
      "outputs": []
    },
    {
      "cell_type": "markdown",
      "source": [
        "Utilizarei os parâmetros encontrados no script abaixo ( rf_randomcv.best_params_ ) lá embaixo na parte de Randon Seach Teste."
      ],
      "metadata": {
        "id": "ZzpIVdvvwKNO"
      }
    },
    {
      "cell_type": "code",
      "source": [
        "rf_randomcv.best_params_\n"
      ],
      "metadata": {
        "id": "B9NjSMDpsOEE"
      },
      "execution_count": null,
      "outputs": []
    },
    {
      "cell_type": "code",
      "source": [
        "rf_randomcv.best_score_\n"
      ],
      "metadata": {
        "id": "M3mCd465sOLm"
      },
      "execution_count": null,
      "outputs": []
    },
    {
      "cell_type": "markdown",
      "source": [
        "# Random Search Teste\n"
      ],
      "metadata": {
        "id": "6jllodb_sUoj"
      }
    },
    {
      "cell_type": "markdown",
      "source": [
        "Os parâmetros encontrados acima no comando ( rf_randomcv.best_params_ ) serão utilizados logo abaixo:"
      ],
      "metadata": {
        "id": "x9DWhPOKvMOF"
      }
    },
    {
      "cell_type": "code",
      "source": [
        "rf_otimizado2 = RandomForestRegressor(random_state=  , max_depth=  , n_estimators=   ,\n",
        "                                      min_samples_leaf= , min_samples_split= )\n"
      ],
      "metadata": {
        "id": "EBSelvOBsbB5"
      },
      "execution_count": null,
      "outputs": []
    },
    {
      "cell_type": "code",
      "source": [
        "rf_otimizado2.fit(X_treino, y_treino)\n"
      ],
      "metadata": {
        "id": "obd5dTylsbMJ"
      },
      "execution_count": null,
      "outputs": []
    },
    {
      "cell_type": "code",
      "source": [
        "predicao_rf_otimizado2 = rf_otimizado2.predict(X_teste)\n"
      ],
      "metadata": {
        "id": "bzH9lOmtsbUY"
      },
      "execution_count": null,
      "outputs": []
    },
    {
      "cell_type": "code",
      "source": [
        "r2_score(y_teste, predicao_rf_otimizado2)\n"
      ],
      "metadata": {
        "id": "ofv-UCK6sbc2"
      },
      "execution_count": null,
      "outputs": []
    },
    {
      "cell_type": "markdown",
      "source": [
        "# **6.4 - Escolhendo o melhor modelo**"
      ],
      "metadata": {
        "id": "xtibxpprwwGy"
      }
    },
    {
      "cell_type": "markdown",
      "source": [
        "Comparando entreo o Randon Search  (Árvore de decisão ou Floresta aleatória) e Cross Validation (Árvore de decisão ou Floresta aleatória) qual possui melhor R2.\n",
        "\n",
        "Pegar o melhor e aplicar o modelo em um dado de um cliente específicos para estimar o valor do imóvel dele."
      ],
      "metadata": {
        "id": "xLqcRaiAzw9o"
      }
    },
    {
      "cell_type": "code",
      "source": [
        "#tabela de resultados\n",
        "print('Random Search')\n",
        "print(\"=\"*30)\n",
        "print(\"Árvore de Decisão: %f\" % r2_score(y_teste, predicao_dtr_otimizado))\n",
        "print(\"Floresta Aleatória: %f\" % r2_score(y_teste, predicao_rf_otimizado2))\n",
        "print(\"*\"*30)\n",
        "\n",
        "print(\"Cross Validation\")\n",
        "print(\"=\"*30)\n",
        "print(\"Árvore de Decisão: %f\" % round(desempenho_cross_val_r2.mean(), 3))\n",
        "print(\"Floresta Aleatória: %f\" % round(desempenhoRF_cross_val_r2.mean(), 3))"
      ],
      "metadata": {
        "id": "Y7HkMmFYw-sn"
      },
      "execution_count": null,
      "outputs": []
    },
    {
      "cell_type": "markdown",
      "source": [
        "No script acima vi qual foi o melhor modelo.\n",
        "Abaixo colocarei as características do imóvel que quero saber o preço (taxa de iptu, de condomínio, qtd de quartos, banheiros, suítes, espaços de estacionamento etc.):"
      ],
      "metadata": {
        "id": "aajhykf10g84"
      }
    },
    {
      "cell_type": "code",
      "source": [
        "#Testando o melhor modelo\n",
        "cliente_joana = pd.DataFrame({'tax_iptu':[4.6], 'tax_condo':[5.45], 'bedrooms':[2],\t'bathrooms':[1], 'suites':[1], 'parkingSpaces':[1],\t'usableAreas':[4],\t'totalAreas':[4.68],\t'floors':[0],\t'unitsOnTheFloor':[0],\t'unitFloor':[0],\t'unit_Apartamento':[0],\t'unit_Casa':[1],\t'unit_Outros':[0],\t'zone_Zona Central':[0],\t'zone_Zona Norte':[0],\t'zone_Zona Oeste':[1],\t'zone_Zona Sul':[0]})\n",
        "cliente_joana\n"
      ],
      "metadata": {
        "id": "dNyXeCw3w-3S"
      },
      "execution_count": null,
      "outputs": []
    },
    {
      "cell_type": "code",
      "source": [
        "#Verificando resultados\n",
        "predicao_cliente_joana = rf_otimizado2.predict(cliente_joana)\n",
        "np.expm1(predicao_cliente_joana)\n"
      ],
      "metadata": {
        "id": "OlKNDmL4w_Aa"
      },
      "execution_count": null,
      "outputs": []
    }
  ]
}